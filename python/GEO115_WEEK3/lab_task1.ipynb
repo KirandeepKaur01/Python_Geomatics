{
 "cells": [
  {
   "cell_type": "markdown",
   "id": "fa8c26ab",
   "metadata": {},
   "source": [
    "A Python script demonstrating the use of variables and data types"
   ]
  },
  {
   "cell_type": "code",
   "execution_count": 1,
   "id": "277c7a78-b127-48d9-b4e6-0359bd58c760",
   "metadata": {},
   "outputs": [
    {
     "name": "stdout",
     "output_type": "stream",
     "text": [
      "Age: 30\n",
      "Price: 9.99\n",
      "Name: Alice\n",
      "Is_student: True\n",
      "Sum_value: 40\n",
      "Product_value: 11.99\n",
      "<class 'int'>\n",
      "<class 'float'>\n",
      "<class 'str'>\n",
      "<class 'bool'>\n"
     ]
    }
   ],
   "source": [
    "# Declare Variables\n",
    "age= 30      # type int\n",
    "price= 9.99  # type float\n",
    "name = \"Alice\"   #type str\n",
    "is_student = True  #type bool\n",
    "# Perform arithemetic operation\n",
    "sum_value = age + 10      # 40\n",
    "product_value = price + 2  #11.99\n",
    " # print\n",
    "print(\"Age:\" ,age)\n",
    "print(\"Price:\", price)\n",
    "print(\"Name:\",name)\n",
    "print(\"Is_student:\",is_student)\n",
    "print(\"Sum_value:\",sum_value)\n",
    "print(\"Product_value:\",product_value)\n",
    "print(type(age))\n",
    "print(type(price))\n",
    "print(type(name))\n",
    "print(type(is_student))\n"
   ]
  },
  {
   "cell_type": "code",
   "execution_count": 3,
   "id": "fb4b9923-d9c2-4ed2-ae64-1cddc4ace359",
   "metadata": {},
   "outputs": [
    {
     "data": {
      "text/plain": [
       "int"
      ]
     },
     "execution_count": 3,
     "metadata": {},
     "output_type": "execute_result"
    }
   ],
   "source": [
    "type(age)\n"
   ]
  },
  {
   "cell_type": "code",
   "execution_count": null,
   "id": "2b461d4a-5a95-4660-9f5e-18e899464ed3",
   "metadata": {},
   "outputs": [],
   "source": []
  }
 ],
 "metadata": {
  "kernelspec": {
   "display_name": "Python 3 (ipykernel)",
   "language": "python",
   "name": "python3"
  },
  "language_info": {
   "codemirror_mode": {
    "name": "ipython",
    "version": 3
   },
   "file_extension": ".py",
   "mimetype": "text/x-python",
   "name": "python",
   "nbconvert_exporter": "python",
   "pygments_lexer": "ipython3",
   "version": "3.12.4"
  }
 },
 "nbformat": 4,
 "nbformat_minor": 5
}
