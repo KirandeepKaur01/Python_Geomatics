{
 "cells": [
  {
   "cell_type": "markdown",
   "id": "c40b063b-889c-455f-91e3-f10d7b787d81",
   "metadata": {},
   "source": [
    "A Python script to determine if a number is even or odd"
   ]
  },
  {
   "cell_type": "code",
   "execution_count": 9,
   "id": "a7a65c13-370d-4074-91fe-91e24c32abdb",
   "metadata": {},
   "outputs": [
    {
     "name": "stdin",
     "output_type": "stream",
     "text": [
      "enter a number: 4\n"
     ]
    },
    {
     "name": "stdout",
     "output_type": "stream",
     "text": [
      "4 is even\n"
     ]
    }
   ],
   "source": [
    "# Ask the user to input a  number\n",
    "number = int(input(\"enter a number:\"))\n",
    " #check if the number is even or odd\n",
    "if number % 2 ==0:\n",
    "    print(number,\"is even\")\n",
    "else:\n",
    "    print(number, \"is odd\")\n",
    "    \n",
    "             "
   ]
  },
  {
   "cell_type": "code",
   "execution_count": 10,
   "id": "7713a970-92e3-4e84-a46b-3a02f9486186",
   "metadata": {},
   "outputs": [
    {
     "name": "stdin",
     "output_type": "stream",
     "text": [
      "Enter a number:  7\n"
     ]
    },
    {
     "name": "stdout",
     "output_type": "stream",
     "text": [
      "7 is an odd number.\n"
     ]
    }
   ],
   "source": [
    "# Get input from the user\n",
    "num = int(input(\"Enter a number: \"))\n",
    "# Check if the number is odd\n",
    "if num % 2 != 0:\n",
    "    print(f\"{num} is an odd number.\")\n",
    "else:\n",
    "    print(f\"{num} is not an odd number.\")\n"
   ]
  },
  {
   "cell_type": "code",
   "execution_count": null,
   "id": "2b461d4a-5a95-4660-9f5e-18e899464ed3",
   "metadata": {},
   "outputs": [],
   "source": []
  }
 ],
 "metadata": {
  "kernelspec": {
   "display_name": "Python 3 (ipykernel)",
   "language": "python",
   "name": "python3"
  },
  "language_info": {
   "codemirror_mode": {
    "name": "ipython",
    "version": 3
   },
   "file_extension": ".py",
   "mimetype": "text/x-python",
   "name": "python",
   "nbconvert_exporter": "python",
   "pygments_lexer": "ipython3",
   "version": "3.12.4"
  }
 },
 "nbformat": 4,
 "nbformat_minor": 5
}
