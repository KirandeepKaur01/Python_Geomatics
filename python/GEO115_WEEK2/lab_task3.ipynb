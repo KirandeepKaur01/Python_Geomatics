{
 "cells": [
  {
   "cell_type": "markdown",
   "id": "ee0988a4-345f-474d-9cc4-249d1de5c49c",
   "metadata": {},
   "source": [
    "Boolean Expression anbd while loop\n"
   ]
  },
  {
   "cell_type": "code",
   "execution_count": 14,
   "id": "962270ca-15cb-4a41-b440-0066b892e565",
   "metadata": {},
   "outputs": [
    {
     "name": "stdin",
     "output_type": "stream",
     "text": [
      "Enter a number: abc\n"
     ]
    },
    {
     "name": "stdout",
     "output_type": "stream",
     "text": [
      "Invalid input, please enter a number.\n"
     ]
    },
    {
     "name": "stdin",
     "output_type": "stream",
     "text": [
      "Enter a number: 99.9\n"
     ]
    },
    {
     "name": "stdout",
     "output_type": "stream",
     "text": [
      "Invalid input, please enter a number.\n"
     ]
    },
    {
     "name": "stdin",
     "output_type": "stream",
     "text": [
      "Enter a number: 34\n"
     ]
    },
    {
     "name": "stdout",
     "output_type": "stream",
     "text": [
      "You entered a valid number: 34\n"
     ]
    }
   ],
   "source": [
    "while True:\n",
    "    user_input = input(\"Enter a number:\")  \n",
    "    try:\n",
    "        number = int(user_input)  \n",
    "        print(\"You entered a valid number:\", number) \n",
    "        break  # Exit the loop if the input is valid\n",
    "    except ValueError:  # Corrected exception name\n",
    "        print(\"Invalid input, please enter a number.\")  # Inform the user of invalid input"
   ]
  },
  {
   "cell_type": "code",
   "execution_count": null,
   "id": "7b283a12-28aa-45f7-aa08-1ea189e20b21",
   "metadata": {},
   "outputs": [
    {
     "name": "stdin",
     "output_type": "stream",
     "text": [
      "Enter your age:  30\n"
     ]
    },
    {
     "name": "stdout",
     "output_type": "stream",
     "text": [
      "You are an adult.\n"
     ]
    }
   ],
   "source": [
    "age = int(input(\"Enter your age: \"))\n",
    "if age < 13:\n",
    "    print(\"You are a child.\")\n",
    "elif 13 <= age < 20:\n",
    "    print(\"You are a teenager.\")\n",
    "elif 20 <= age < 65:\n",
    "    print(\"You are an adult.\")\n",
    "else:\n",
    "    print(\"You are a senior.\")\n",
    "\n",
    "\n",
    "# Multiple Conditions Example: Positive, Negative, or Zero\n",
    "number = int(input(\"Enter a number: \"))\n",
    "if number > 0:\n",
    "    print(\"Positive number\")\n",
    "elif number == 0:\n",
    "    print(\"Zero\")\n",
    "else:\n",
    "    print(\"Negative number\")\n",
    "\n",
    "\n",
    "# Boolean Operations Example: Valid Email\n",
    "email = input(\"Enter your email: \")\n",
    "if \"@\" in email and \".\" in email:\n",
    "    print(\"Valid email address\")\n",
    "else:\n",
    "    print(\"Invalid email address\")\n",
    "\n"
   ]
  },
  {
   "cell_type": "code",
   "execution_count": null,
   "id": "da72ae0b-fcc3-4958-acb3-8d467ca13086",
   "metadata": {},
   "outputs": [],
   "source": [
    "def evaluate_student_mark(mark: int) -> str:\n",
    "    \n",
    "    if mark <= 40:\n",
    "        return \"Student failed\"\n",
    "    elif 50 < mark <= 60:\n",
    "        return \"Student got: D\"\n",
    "    elif 60 < mark <= 75:\n",
    "        return \"Student got: D+\"\n",
    "    elif 75 < mark <= 80:\n",
    "        return \"Student got: B\"\n",
    "    elif 85 < mark <= 90:\n",
    "        return \"Student got: B+\"\n",
    "    elif 90 < mark <= 95:\n",
    "        return \"Student got: A\"\n",
    "    else:\n",
    "        return \"Student got: A+\"\n",
    "\n",
    "# Input and output\n",
    "mark = int(input(\"Enter mark: \"))\n",
    "result = evaluate_student_mark(mark)\n",
    "print(result)"
   ]
  },
  {
   "cell_type": "code",
   "execution_count": null,
   "id": "2b461d4a-5a95-4660-9f5e-18e899464ed3",
   "metadata": {},
   "outputs": [],
   "source": []
  }
 ],
 "metadata": {
  "kernelspec": {
   "display_name": "Python 3 (ipykernel)",
   "language": "python",
   "name": "python3"
  },
  "language_info": {
   "codemirror_mode": {
    "name": "ipython",
    "version": 3
   },
   "file_extension": ".py",
   "mimetype": "text/x-python",
   "name": "python",
   "nbconvert_exporter": "python",
   "pygments_lexer": "ipython3",
   "version": "3.12.4"
  }
 },
 "nbformat": 4,
 "nbformat_minor": 5
}
