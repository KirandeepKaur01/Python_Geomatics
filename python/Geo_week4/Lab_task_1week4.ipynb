{
 "cells": [
  {
   "cell_type": "code",
   "execution_count": 9,
   "id": "43ce7184-a98e-4ea3-bceb-f2b7a220c725",
   "metadata": {},
   "outputs": [
    {
     "name": "stdout",
     "output_type": "stream",
     "text": [
      "fruits:: ['apple', 'cherry', 'orange']\n",
      "first fruits: apple\n"
     ]
    }
   ],
   "source": [
    "# create a list of items\n",
    "fruits = [\"apple\", \"banana\", \"cherry\"]\n",
    "# add an item to the list\n",
    "fruits.append(\"orange\")\n",
    "\n",
    "# remove an item from the list\n",
    "fruits. remove(\"banana\")\n",
    "# Acccess elements by index\n",
    "first_fruit = fruits[0]\n",
    "print(\"fruits::\", fruits)\n",
    "print(\"first fruits:\", first_fruit)\n",
    "\n"
   ]
  },
  {
   "cell_type": "code",
   "execution_count": null,
   "id": "73e18d95-7498-4534-be80-3d3dc7e38c8c",
   "metadata": {},
   "outputs": [],
   "source": []
  }
 ],
 "metadata": {
  "kernelspec": {
   "display_name": "Python 3 (ipykernel)",
   "language": "python",
   "name": "python3"
  },
  "language_info": {
   "codemirror_mode": {
    "name": "ipython",
    "version": 3
   },
   "file_extension": ".py",
   "mimetype": "text/x-python",
   "name": "python",
   "nbconvert_exporter": "python",
   "pygments_lexer": "ipython3",
   "version": "3.12.4"
  }
 },
 "nbformat": 4,
 "nbformat_minor": 5
}
