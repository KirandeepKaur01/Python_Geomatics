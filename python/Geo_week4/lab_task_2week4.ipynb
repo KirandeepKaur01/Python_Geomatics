{
 "cells": [
  {
   "cell_type": "code",
   "execution_count": 3,
   "id": "5ea44451-a039-426c-94a6-ab097790691c",
   "metadata": {},
   "outputs": [
    {
     "name": "stdout",
     "output_type": "stream",
     "text": [
      "Student: {'name': 'Alice', 'age': 22, 'major': 'Computer Science'}\n",
      "Student name: Alice\n"
     ]
    }
   ],
   "source": [
    "#Create a dictionary with key-value pairs\n",
    "student = {\"name\": \"Alice\", \"age\": 21, \"major\": \"Computer Science\"}\n",
    "\n",
    "# Update a value in the dictionary\n",
    "student[\"age\"] = 22\n",
    "\n",
    "# Access elements by key\n",
    "student_name = student[\"name\"]\n",
    "\n",
    "# Print the dictionary\n",
    "print(\"Student:\", student)\n",
    "print(\"Student name:\", student_name)\n"
   ]
  },
  {
   "cell_type": "code",
   "execution_count": null,
   "id": "4243cb10-44ef-4d2f-9df9-3a68614cc20d",
   "metadata": {},
   "outputs": [],
   "source": []
  }
 ],
 "metadata": {
  "kernelspec": {
   "display_name": "Python 3 (ipykernel)",
   "language": "python",
   "name": "python3"
  },
  "language_info": {
   "codemirror_mode": {
    "name": "ipython",
    "version": 3
   },
   "file_extension": ".py",
   "mimetype": "text/x-python",
   "name": "python",
   "nbconvert_exporter": "python",
   "pygments_lexer": "ipython3",
   "version": "3.12.4"
  }
 },
 "nbformat": 4,
 "nbformat_minor": 5
}
